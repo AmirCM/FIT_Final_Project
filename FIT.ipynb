{
 "cells": [
  {
   "cell_type": "code",
   "execution_count": 1,
   "metadata": {
    "collapsed": true,
    "pycharm": {
     "is_executing": false
    }
   },
   "outputs": [
    {
     "data": {
      "text/plain": "                               name type  date                  job title  \\\n0  فناوران اطلاعات پیشخوان ایرانیان   pr  99-8     database administrator   \n1                پردازش مجازی رامین   pr  99-8         back-end developer   \n2             توسعه ایده پایدار پاک   pr  99-8  junior back-end developer   \n3                       تاژان سیستم   pr  99-8       full-stack developer   \n4               توسعه ارتباطات راشا   pr  99-8      senior java developer   \n\n  remote   city knw fTime gender prj mil  \\\n0     no  تهران  no   yes   both  no  no   \n1    yes  تهران  no   yes   both  no  no   \n2     no  تهران  no   yes   both  no  no   \n3     no  تهران  no   yes   both  no  no   \n4    yes  تهران  no   yes   both  no  no   \n\n                                               aText  \\\n0  استخدام مدیر پایگاه داده‌ها MySQL \\nنوع همکاری...   \n1  تسلط کامل بر Node.js و Typescript\\nتجربه کار ب...   \n2  استخدام توسعه‌دهنده Back-end\\nحقوق تا ۶ میلیون...   \n3  مهارت های فردی:\\n\\n•        دارا بودن روحیه حل...   \n4  Job Requirements:\\n\\n\\nExperience with Java an...   \n\n                                           key words  \n0                                     mysql database  \n1                typescript nodejs back-end rest-api  \n2                  nodejs microservice mongodb nginx  \n3              full-stack c# asp.net sql-server linq  \n4  java postgresql databases soap rest json nosql...  ",
      "text/html": "<div>\n<style scoped>\n    .dataframe tbody tr th:only-of-type {\n        vertical-align: middle;\n    }\n\n    .dataframe tbody tr th {\n        vertical-align: top;\n    }\n\n    .dataframe thead th {\n        text-align: right;\n    }\n</style>\n<table border=\"1\" class=\"dataframe\">\n  <thead>\n    <tr style=\"text-align: right;\">\n      <th></th>\n      <th>name</th>\n      <th>type</th>\n      <th>date</th>\n      <th>job title</th>\n      <th>remote</th>\n      <th>city</th>\n      <th>knw</th>\n      <th>fTime</th>\n      <th>gender</th>\n      <th>prj</th>\n      <th>mil</th>\n      <th>aText</th>\n      <th>key words</th>\n    </tr>\n  </thead>\n  <tbody>\n    <tr>\n      <th>0</th>\n      <td>فناوران اطلاعات پیشخوان ایرانیان</td>\n      <td>pr</td>\n      <td>99-8</td>\n      <td>database administrator</td>\n      <td>no</td>\n      <td>تهران</td>\n      <td>no</td>\n      <td>yes</td>\n      <td>both</td>\n      <td>no</td>\n      <td>no</td>\n      <td>استخدام مدیر پایگاه داده‌ها MySQL \\nنوع همکاری...</td>\n      <td>mysql database</td>\n    </tr>\n    <tr>\n      <th>1</th>\n      <td>پردازش مجازی رامین</td>\n      <td>pr</td>\n      <td>99-8</td>\n      <td>back-end developer</td>\n      <td>yes</td>\n      <td>تهران</td>\n      <td>no</td>\n      <td>yes</td>\n      <td>both</td>\n      <td>no</td>\n      <td>no</td>\n      <td>تسلط کامل بر Node.js و Typescript\\nتجربه کار ب...</td>\n      <td>typescript nodejs back-end rest-api</td>\n    </tr>\n    <tr>\n      <th>2</th>\n      <td>توسعه ایده پایدار پاک</td>\n      <td>pr</td>\n      <td>99-8</td>\n      <td>junior back-end developer</td>\n      <td>no</td>\n      <td>تهران</td>\n      <td>no</td>\n      <td>yes</td>\n      <td>both</td>\n      <td>no</td>\n      <td>no</td>\n      <td>استخدام توسعه‌دهنده Back-end\\nحقوق تا ۶ میلیون...</td>\n      <td>nodejs microservice mongodb nginx</td>\n    </tr>\n    <tr>\n      <th>3</th>\n      <td>تاژان سیستم</td>\n      <td>pr</td>\n      <td>99-8</td>\n      <td>full-stack developer</td>\n      <td>no</td>\n      <td>تهران</td>\n      <td>no</td>\n      <td>yes</td>\n      <td>both</td>\n      <td>no</td>\n      <td>no</td>\n      <td>مهارت های فردی:\\n\\n•        دارا بودن روحیه حل...</td>\n      <td>full-stack c# asp.net sql-server linq</td>\n    </tr>\n    <tr>\n      <th>4</th>\n      <td>توسعه ارتباطات راشا</td>\n      <td>pr</td>\n      <td>99-8</td>\n      <td>senior java developer</td>\n      <td>yes</td>\n      <td>تهران</td>\n      <td>no</td>\n      <td>yes</td>\n      <td>both</td>\n      <td>no</td>\n      <td>no</td>\n      <td>Job Requirements:\\n\\n\\nExperience with Java an...</td>\n      <td>java postgresql databases soap rest json nosql...</td>\n    </tr>\n  </tbody>\n</table>\n</div>"
     },
     "metadata": {},
     "output_type": "execute_result",
     "execution_count": 1
    }
   ],
   "source": [
    "import pandas as pd\n",
    "df = pd.read_excel('datasets/FIT.xlsx', engine='openpyxl')\n",
    "df = df.loc[:, :'kyw']\n",
    "df.rename(columns={'g': 'name', 'a Type': 'type', 'a Time': 'date'\n",
    "    , 'j Tiltle': 'job title','rmtWrk': 'remote','kyw': 'key words' }, inplace=True)\n",
    "df.head()\n"
   ]
  },
  {
   "cell_type": "code",
   "execution_count": 10,
   "outputs": [
    {
     "name": "stdout",
     "text": [
      "Number of Private company: 1279\n",
      "Number of Goverment company: 9\n"
     ],
     "output_type": "stream"
    }
   ],
   "source": [
    "pr_df = df[df['type'] == 'pr']\n",
    "gov_df = df[df['type'] == 'gov']\n",
    "print(f'Number of Private company: {pr_df.shape[0]}')\n",
    "print(f'Number of Goverment company: {gov_df.shape[0]}')"
   ],
   "metadata": {
    "collapsed": false,
    "pycharm": {
     "name": "#%%\n",
     "is_executing": false
    }
   }
  },
  {
   "cell_type": "code",
   "execution_count": 11,
   "outputs": [
    {
     "data": {
      "text/plain": "<Figure size 432x288 with 1 Axes>",
      "image/png": "[encoded data removed]"
     },
     "metadata": {},
     "output_type": "display_data"
    }
   ],
   "source": [
    "import matplotlib.pyplot as plt\n",
    "\n",
    "slices = [gov_df.shape[0], pr_df.shape[0]]\n",
    "activities = ['Government','Private']\n",
    "cols = ['r','g']\n",
    "\n",
    "plt.pie(slices,\n",
    "        labels=activities,\n",
    "        colors=cols,\n",
    "        startangle=90,\n",
    "        shadow= True,\n",
    "        autopct='%1.1f%%')\n",
    "\n",
    "plt.title('Type Graph')\n",
    "plt.show()"
   ],
   "metadata": {
    "collapsed": false,
    "pycharm": {
     "name": "#%%\n",
     "is_executing": false
    }
   }
  },
  {
   "cell_type": "code",
   "execution_count": null,
   "outputs": [
    {
     "name": "stderr",
     "text": [
      "c:\\users\\user\\appdata\\local\\programs\\python\\python38-32\\lib\\site-packages\\matplotlib\\backends\\backend_agg.py:238: RuntimeWarning: Glyph 9 missing from current font.\n",
      "  font.set_text(s, 0.0, flags=flags)\n"
     ],
     "output_type": "stream"
    }
   ],
   "source": [
    "import numpy as np\n",
    "j_title = df['job title'].values.tolist()\n",
    "x = []\n",
    "y = []\n",
    "for title in df['job title'].unique():\n",
    "    if title is not np.nan:\n",
    "        # print(f'{type(title)}: {title}: {j_title.count(title)}')\n",
    "        x += [title]\n",
    "        y += [j_title.count(title)]\n",
    "plt.bar(x, y)\n",
    "plt.title('Job Title') \n",
    "plt.show()"
   ],
   "metadata": {
    "collapsed": false,
    "pycharm": {
     "name": "#%%\n",
     "is_executing": true
    }
   }
  },
  {
   "cell_type": "code",
   "execution_count": null,
   "outputs": [],
   "source": [
    "\n"
   ],
   "metadata": {
    "collapsed": false,
    "pycharm": {
     "name": "#%%\n"
    }
   }
  }
 ],
 "metadata": {
  "kernelspec": {
   "display_name": "Python 3",
   "language": "python",
   "name": "python3"
  },
  "language_info": {
   "codemirror_mode": {
    "name": "ipython",
    "version": 2
   },
   "file_extension": ".py",
   "mimetype": "text/x-python",
   "name": "python",
   "nbconvert_exporter": "python",
   "pygments_lexer": "ipython2",
   "version": "2.7.6"
  },
  "pycharm": {
   "stem_cell": {
    "cell_type": "raw",
    "source": [],
    "metadata": {
     "collapsed": false
    }
   }
  }
 },
 "nbformat": 4,
 "nbformat_minor": 0
}