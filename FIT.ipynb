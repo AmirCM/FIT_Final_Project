{
 "cells": [
  {
   "cell_type": "code",
   "execution_count": 35,
   "metadata": {
    "pycharm": {
     "is_executing": false
    }
   },
   "outputs": [
    {
     "data": {
      "text/html": [
       "<div>\n",
       "<style scoped>\n",
       "    .dataframe tbody tr th:only-of-type {\n",
       "        vertical-align: middle;\n",
       "    }\n",
       "\n",
       "    .dataframe tbody tr th {\n",
       "        vertical-align: top;\n",
       "    }\n",
       "\n",
       "    .dataframe thead th {\n",
       "        text-align: right;\n",
       "    }\n",
       "</style>\n",
       "<table border=\"1\" class=\"dataframe\">\n",
       "  <thead>\n",
       "    <tr style=\"text-align: right;\">\n",
       "      <th></th>\n",
       "      <th>name</th>\n",
       "      <th>type</th>\n",
       "      <th>date</th>\n",
       "      <th>job title</th>\n",
       "      <th>remote</th>\n",
       "      <th>city</th>\n",
       "      <th>knw</th>\n",
       "      <th>fTime</th>\n",
       "      <th>gender</th>\n",
       "      <th>prj</th>\n",
       "      <th>mil</th>\n",
       "      <th>aText</th>\n",
       "      <th>key words</th>\n",
       "    </tr>\n",
       "  </thead>\n",
       "  <tbody>\n",
       "    <tr>\n",
       "      <th>0</th>\n",
       "      <td>فناوران اطلاعات پیشخوان ایرانیان</td>\n",
       "      <td>pr</td>\n",
       "      <td>99-8</td>\n",
       "      <td>database administrator</td>\n",
       "      <td>no</td>\n",
       "      <td>تهران</td>\n",
       "      <td>no</td>\n",
       "      <td>yes</td>\n",
       "      <td>both</td>\n",
       "      <td>no</td>\n",
       "      <td>no</td>\n",
       "      <td>استخدام مدیر پایگاه داده‌ها MySQL \\nنوع همکاری...</td>\n",
       "      <td>mysql database</td>\n",
       "    </tr>\n",
       "    <tr>\n",
       "      <th>1</th>\n",
       "      <td>پردازش مجازی رامین</td>\n",
       "      <td>pr</td>\n",
       "      <td>99-8</td>\n",
       "      <td>back-end developer</td>\n",
       "      <td>yes</td>\n",
       "      <td>تهران</td>\n",
       "      <td>no</td>\n",
       "      <td>yes</td>\n",
       "      <td>both</td>\n",
       "      <td>no</td>\n",
       "      <td>no</td>\n",
       "      <td>تسلط کامل بر Node.js و Typescript\\nتجربه کار ب...</td>\n",
       "      <td>typescript nodejs back-end rest-api</td>\n",
       "    </tr>\n",
       "    <tr>\n",
       "      <th>2</th>\n",
       "      <td>توسعه ایده پایدار پاک</td>\n",
       "      <td>pr</td>\n",
       "      <td>99-8</td>\n",
       "      <td>junior back-end developer</td>\n",
       "      <td>no</td>\n",
       "      <td>تهران</td>\n",
       "      <td>no</td>\n",
       "      <td>yes</td>\n",
       "      <td>both</td>\n",
       "      <td>no</td>\n",
       "      <td>no</td>\n",
       "      <td>استخدام توسعه‌دهنده Back-end\\nحقوق تا ۶ میلیون...</td>\n",
       "      <td>nodejs microservice mongodb nginx</td>\n",
       "    </tr>\n",
       "    <tr>\n",
       "      <th>3</th>\n",
       "      <td>تاژان سیستم</td>\n",
       "      <td>pr</td>\n",
       "      <td>99-8</td>\n",
       "      <td>full-stack developer</td>\n",
       "      <td>no</td>\n",
       "      <td>تهران</td>\n",
       "      <td>no</td>\n",
       "      <td>yes</td>\n",
       "      <td>both</td>\n",
       "      <td>no</td>\n",
       "      <td>no</td>\n",
       "      <td>مهارت های فردی:\\n\\n•        دارا بودن روحیه حل...</td>\n",
       "      <td>full-stack c# asp.net sql-server linq</td>\n",
       "    </tr>\n",
       "    <tr>\n",
       "      <th>4</th>\n",
       "      <td>توسعه ارتباطات راشا</td>\n",
       "      <td>pr</td>\n",
       "      <td>99-8</td>\n",
       "      <td>senior java developer</td>\n",
       "      <td>yes</td>\n",
       "      <td>تهران</td>\n",
       "      <td>no</td>\n",
       "      <td>yes</td>\n",
       "      <td>both</td>\n",
       "      <td>no</td>\n",
       "      <td>no</td>\n",
       "      <td>Job Requirements:\\n\\n\\nExperience with Java an...</td>\n",
       "      <td>java postgresql databases soap rest json nosql...</td>\n",
       "    </tr>\n",
       "  </tbody>\n",
       "</table>\n",
       "</div>"
      ],
      "text/plain": [
       "                               name type  date                  job title  \\\n",
       "0  فناوران اطلاعات پیشخوان ایرانیان   pr  99-8     database administrator   \n",
       "1                پردازش مجازی رامین   pr  99-8         back-end developer   \n",
       "2             توسعه ایده پایدار پاک   pr  99-8  junior back-end developer   \n",
       "3                       تاژان سیستم   pr  99-8       full-stack developer   \n",
       "4               توسعه ارتباطات راشا   pr  99-8      senior java developer   \n",
       "\n",
       "  remote   city knw fTime gender prj mil  \\\n",
       "0     no  تهران  no   yes   both  no  no   \n",
       "1    yes  تهران  no   yes   both  no  no   \n",
       "2     no  تهران  no   yes   both  no  no   \n",
       "3     no  تهران  no   yes   both  no  no   \n",
       "4    yes  تهران  no   yes   both  no  no   \n",
       "\n",
       "                                               aText  \\\n",
       "0  استخدام مدیر پایگاه داده‌ها MySQL \\nنوع همکاری...   \n",
       "1  تسلط کامل بر Node.js و Typescript\\nتجربه کار ب...   \n",
       "2  استخدام توسعه‌دهنده Back-end\\nحقوق تا ۶ میلیون...   \n",
       "3  مهارت های فردی:\\n\\n•        دارا بودن روحیه حل...   \n",
       "4  Job Requirements:\\n\\n\\nExperience with Java an...   \n",
       "\n",
       "                                           key words  \n",
       "0                                     mysql database  \n",
       "1                typescript nodejs back-end rest-api  \n",
       "2                  nodejs microservice mongodb nginx  \n",
       "3              full-stack c# asp.net sql-server linq  \n",
       "4  java postgresql databases soap rest json nosql...  "
      ]
     },
     "execution_count": 35,
     "metadata": {},
     "output_type": "execute_result"
    }
   ],
   "source": [
    "import pandas as pd\n",
    "df = pd.read_excel('datasets/FIT.xlsx', engine='openpyxl')\n",
    "df = df.loc[:, :'kyw']\n",
    "df.rename(columns={'g': 'name', 'a Type': 'type', 'a Time': 'date'\n",
    "    , 'j Tiltle': 'job title','rmtWrk': 'remote','kyw': 'key words' }, inplace=True)\n",
    "df.head()\n"
   ]
  },
  {
   "cell_type": "code",
   "execution_count": 10,
   "metadata": {
    "pycharm": {
     "is_executing": false,
     "name": "#%%\n"
    }
   },
   "outputs": [
    {
     "name": "stdout",
     "output_type": "stream",
     "text": [
      "Number of Private company: 1279\n",
      "Number of Goverment company: 9\n"
     ]
    }
   ],
   "source": [
    "pr_df = df[df['type'] == 'pr']\n",
    "gov_df = df[df['type'] == 'gov']\n",
    "print(f'Number of Private company: {pr_df.shape[0]}')\n",
    "print(f'Number of Goverment company: {gov_df.shape[0]}')"
   ]
  },
  {
   "cell_type": "code",
   "execution_count": 11,
   "metadata": {
    "pycharm": {
     "is_executing": false,
     "name": "#%%\n"
    }
   },
   "outputs": [
    {
     "data": {
      "image/png": "[encoded data removed]",
      "text/plain": [
       "<Figure size 432x288 with 1 Axes>"
      ]
     },
     "metadata": {},
     "output_type": "display_data"
    }
   ],
   "source": [
    "import matplotlib.pyplot as plt\n",
    "\n",
    "slices = [gov_df.shape[0], pr_df.shape[0]]\n",
    "activities = ['Government','Private']\n",
    "cols = ['r','g']\n",
    "\n",
    "plt.pie(slices,\n",
    "        labels=activities,\n",
    "        colors=cols,\n",
    "        startangle=90,\n",
    "        shadow= True,\n",
    "        autopct='%1.1f%%')\n",
    "\n",
    "plt.title('Type Graph')\n",
    "plt.show()"
   ]
  },
  {
   "cell_type": "code",
   "execution_count": 12,
   "metadata": {
    "pycharm": {
     "is_executing": false,
     "name": "#%%\n"
    }
   },
   "outputs": [
    {
     "name": "stderr",
     "output_type": "stream",
     "text": [
      "c:\\users\\user\\appdata\\local\\programs\\python\\python38-32\\lib\\site-packages\\matplotlib\\backends\\backend_agg.py:238: RuntimeWarning: Glyph 9 missing from current font.\n",
      "  font.set_text(s, 0.0, flags=flags)\n",
      "c:\\users\\user\\appdata\\local\\programs\\python\\python38-32\\lib\\site-packages\\matplotlib\\backends\\backend_agg.py:201: RuntimeWarning: Glyph 9 missing from current font.\n",
      "  font.set_text(s, 0, flags=flags)\n"
     ]
    },
    {
     "data": {
      "image/png": "[encoded data removed]",
      "text/plain": [
       "<Figure size 432x288 with 1 Axes>"
      ]
     },
     "metadata": {
      "needs_background": "light"
     },
     "output_type": "display_data"
    }
   ],
   "source": [
    "import numpy as np\n",
    "j_title = df['job title'].values.tolist()\n",
    "x = []\n",
    "y = []\n",
    "for title in df['job title'].unique():\n",
    "    if title is not np.nan:\n",
    "        # print(f'{type(title)}: {title}: {j_title.count(title)}')\n",
    "        x += [title]\n",
    "        y += [j_title.count(title)]\n",
    "plt.bar(x, y)\n",
    "plt.title('Job Title') \n",
    "plt.show()"
   ]
  },
  {
   "cell_type": "code",
   "execution_count": 34,
   "metadata": {
    "pycharm": {
     "is_executing": false,
     "name": "#%%\n"
    }
   },
   "outputs": [
    {
     "name": "stdout",
     "output_type": "stream",
     "text": [
      "Legends:\n",
      "0: تهران %71.06\n",
      "1: نیشابور %0.30\n",
      "2: مشهد %2.97\n",
      "3: اصفهان %7.84\n",
      "4: شیراز %1.60\n",
      "5: آمل %0.08\n",
      "6: قم %0.46\n",
      "7: گرگان %0.23\n",
      "8: قزوین %0.53\n",
      "9: کرمان %1.07\n",
      "10: تهران  %0.53\n",
      "11: انگلستان %0.08\n",
      "12: رشت %0.08\n",
      "13: تبریز %1.75\n",
      "14: کاشان %0.08\n",
      "15: البرز %0.61\n",
      "16: زنجان %0.30\n",
      "17: سنندج %0.08\n",
      "18: فارس %1.68\n",
      "19: یندرعباس %0.08\n",
      "20: کرج %0.76\n",
      "21: قشم %0.15\n",
      "22: یزد %1.60\n",
      "23: اراک %0.08\n",
      "24: بوت کمپ مپصا %0.08\n",
      "25: مازندران %0.23\n",
      "26: گیلان %1.22\n",
      "27: گیلان  %0.23\n",
      "28: گلستان %0.15\n",
      "29: خوزستان %0.15\n",
      "30: همدان %0.23\n",
      "31: نبریز %0.08\n",
      "32: خراسان جنوبی %0.15\n",
      "33: اهواز %0.30\n",
      "34: آبادان %0.23\n",
      "35: اصفهان  %0.15\n",
      "36:  اصفهان %0.15\n",
      "37: کرمانشاه %0.08\n",
      "38: کردستان %0.23\n",
      "39: کرمان  %0.38\n",
      "40: خراسان رضوی %1.14\n",
      "41: هرمزگان %0.15\n",
      "42: تهرن %0.08\n",
      "43: آذربایجان شرقی %0.08\n",
      "44: بندرعباس %0.08\n",
      "45: کرمانشاه  %0.15\n",
      "46: ساری %0.08\n",
      "47: بهارستان %0.08\n",
      "48: لاهیجان %0.08\n",
      "49: سمنان %0.08\n"
     ]
    },
    {
     "data": {
      "image/png": "[encoded data removed]",
      "text/plain": [
       "<Figure size 432x288 with 1 Axes>"
      ]
     },
     "metadata": {},
     "output_type": "display_data"
    }
   ],
   "source": [
    "cities = df['city'].values.tolist()\n",
    "city = []\n",
    "slices= []\n",
    "keys = [*range(50)]\n",
    "for name in df['city'].unique():\n",
    "    if name is not np.nan:\n",
    "        city += [name]\n",
    "        slices += [cities.count(name)]\n",
    "plt.pie(slices,\n",
    "        labels=keys,\n",
    "        startangle=90,\n",
    "        shadow= True,\n",
    "        autopct='%1.1f%%')\n",
    "print('Legends:')\n",
    "for i, k in enumerate(city):\n",
    "    p = slices[i]/sum(slices)*100\n",
    "    print('{}: {} %{p:.2f}'.format(i, k, p=p))\n",
    "plt.title('City Graph')\n",
    "plt.show()"
   ]
  },
  {
   "cell_type": "code",
   "execution_count": null,
   "metadata": {
    "pycharm": {
     "name": "#%%\n"
    }
   },
   "outputs": [],
   "source": []
  }
 ],
 "metadata": {
  "kernelspec": {
   "display_name": "Python 3",
   "language": "python",
   "name": "python3"
  },
  "language_info": {
   "codemirror_mode": {
    "name": "ipython",
    "version": 3
   },
   "file_extension": ".py",
   "mimetype": "text/x-python",
   "name": "python",
   "nbconvert_exporter": "python",
   "pygments_lexer": "ipython3",
   "version": "3.8.5"
  },
  "pycharm": {
   "stem_cell": {
    "cell_type": "raw",
    "metadata": {
     "collapsed": false
    },
    "source": []
   }
  }
 },
 "nbformat": 4,
 "nbformat_minor": 1
}
